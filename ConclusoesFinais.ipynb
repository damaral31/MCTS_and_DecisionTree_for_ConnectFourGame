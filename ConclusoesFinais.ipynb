{
 "cells": [
  {
   "cell_type": "markdown",
   "id": "58efaba2",
   "metadata": {},
   "source": [
    "# Conclusões Finais\n",
    "\n",
    "## 1. Sobre o **Monte Carlo Tree Search (MCTS)**\n",
    "\n",
    "Ao fim deste trabalho, conclui-se que:\n",
    "\n",
    "- O algoritmo de **Monte Carlo Tree Search** implementado revelou-se _**muito eficiente**_ na pesquisa do melhor lance para uma dada posição, **necessitando de pouco tempo por decisão para vencer um humano**.\n",
    "\n",
    "- O **MCTS em singlethread apresenta melhor performance em _baixas iterações_**, enquanto o **MCTS em multithread tem melhor desempenho com _altas iterações_**.\n",
    "\n",
    "  - Isto deve-se ao facto de que, com poucas iterações, a **complexidade temporal da própria pesquisa** do MCTS é **menor** do que a **complexidade de junção das árvores geradas por cada core**, favorecendo a versão em singlethread.\n",
    "  - Já quando o número de iterações ultrapassa as **5000**, a **complexidade da pesquisa torna-se dominante**, tornando a versão multithread **mais eficiente**.\n",
    "\n",
    "- No caso do MCTS em multithread, ao **dividir o número total de iterações pelo número de cores do CPU**, surgiram dúvidas quanto à **equidade da comparação entre as versões singlethread e multithread**, dado que a árvore de decisão multithread seria menos iterada por core.\n",
    "\n",
    "  - Esta hipótese foi **confirmada**: observou-se que **aproximadamente 30% das decisões tomadas para a mesma posição diferem entre a versão singlethread e a multithread**.\n"
   ]
  },
  {
   "cell_type": "markdown",
   "id": "7e965034",
   "metadata": {},
   "source": [
    "## 3. Sobre a **Decision Tree nos Datasets Iris e AI vs AI**\n",
    "\n",
    "Ao longo desta análise, verificou-se que:\n",
    "\n",
    "- Tanto a implementação da Decision Tree ID3, quanto a Decision Tree com Prunning (Ruleset) e o ensemble por Bootstrap Aggregating (Bagging) apresentaram **accuracy superior a 90% no dataset Iris**.\n",
    "\n",
    "- Embora o modelo Bagging tenha demorado mais tempo em treino, foi o que alcançou a **melhor performance, atingindo 100% de accuracy no iris dataset**.\n",
    "\n",
    "- No dataset gerado pelos jogos de AI vs AI, observou-se uma correlação direta entre a quantidade de exemplos de treino e a performance dos modelos, devido ao comportamento do algoritmo MCTS, que prefere jogar nas colunas centrais e inicia as partidas com as mesmas aberturas.\n",
    "\n",
    "- Este comportamento gerou um défice de dados nas colunas extremas, refletido num menor número de exemplos de treino nessas regiões, o que resultou em **overfitting**, evidenciado pelo desempenho superior no conjunto de treino em comparação ao conjunto de teste.\n",
    "\n",
    "- As métricas de desempenho no conjunto de teste ficaram entre **40% e 50%**, indicando uma queda significativa em relação ao desempenho observado no treino.\n"
   ]
  },
  {
   "cell_type": "markdown",
   "id": "e93a78fa",
   "metadata": {},
   "source": []
  }
 ],
 "metadata": {
  "language_info": {
   "name": "python"
  }
 },
 "nbformat": 4,
 "nbformat_minor": 5
}
