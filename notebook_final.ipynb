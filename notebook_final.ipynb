{
 "cells": [
  {
   "cell_type": "code",
   "execution_count": 1,
   "id": "29399050",
   "metadata": {},
   "outputs": [
    {
     "ename": "NameError",
     "evalue": "name 'exit' is not defined",
     "output_type": "error",
     "traceback": [
      "\u001b[1;31m---------------------------------------------------------------------------\u001b[0m",
      "\u001b[1;31mNameError\u001b[0m                                 Traceback (most recent call last)",
      "Cell \u001b[1;32mIn[1], line 4\u001b[0m\n\u001b[0;32m      1\u001b[0m \u001b[38;5;28;01mfrom\u001b[39;00m \u001b[38;5;21;01mGameMain\u001b[39;00m \u001b[38;5;28;01mimport\u001b[39;00m ConnectFourGUI\n\u001b[0;32m      3\u001b[0m gui \u001b[38;5;241m=\u001b[39m ConnectFourGUI()\n\u001b[1;32m----> 4\u001b[0m gui\u001b[38;5;241m.\u001b[39mmainMenu()\n",
      "File \u001b[1;32mc:\\Users\\diogo\\OneDrive\\Documents\\GitHub\\MCTS_and_DecisionTree_for_ConnectFourGame\\GameMain.py:354\u001b[0m, in \u001b[0;36mConnectFourGUI.mainMenu\u001b[1;34m(self)\u001b[0m\n\u001b[0;32m    352\u001b[0m \u001b[38;5;28;01mif\u001b[39;00m event\u001b[38;5;241m.\u001b[39mtype \u001b[38;5;241m==\u001b[39m pygame\u001b[38;5;241m.\u001b[39mQUIT:\n\u001b[0;32m    353\u001b[0m     pygame\u001b[38;5;241m.\u001b[39mquit()\n\u001b[1;32m--> 354\u001b[0m     exit()\n\u001b[0;32m    355\u001b[0m \u001b[38;5;28;01mif\u001b[39;00m event\u001b[38;5;241m.\u001b[39mtype \u001b[38;5;241m==\u001b[39m pygame\u001b[38;5;241m.\u001b[39mMOUSEBUTTONDOWN:\n\u001b[0;32m    356\u001b[0m     x, y \u001b[38;5;241m=\u001b[39m event\u001b[38;5;241m.\u001b[39mpos\n",
      "\u001b[1;31mNameError\u001b[0m: name 'exit' is not defined"
     ]
    }
   ],
   "source": [
    "from GameMain import ConnectFourGUI\n",
    "\n",
    "gui = ConnectFourGUI()\n",
    "gui.mainMenu()\n"
   ]
  }
 ],
 "metadata": {
  "kernelspec": {
   "display_name": "DataSciEnv",
   "language": "python",
   "name": "python3"
  },
  "language_info": {
   "codemirror_mode": {
    "name": "ipython",
    "version": 3
   },
   "file_extension": ".py",
   "mimetype": "text/x-python",
   "name": "python",
   "nbconvert_exporter": "python",
   "pygments_lexer": "ipython3",
   "version": "3.11.7"
  }
 },
 "nbformat": 4,
 "nbformat_minor": 5
}
