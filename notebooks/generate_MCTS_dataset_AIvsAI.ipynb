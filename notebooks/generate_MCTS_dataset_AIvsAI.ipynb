{
 "cells": [
  {
   "cell_type": "markdown",
   "id": "4e7d4524",
   "metadata": {},
   "source": [
    "# Generate MCTS from AIvsAI positions to train a Decision Tree\n",
    "\n",
    "This notebook is responsible for creating a dataset with a current state description and the MCTS decision to train the Decision Tree further on the project"
   ]
  },
  {
   "cell_type": "markdown",
   "id": "0bf1b611",
   "metadata": {},
   "source": [
    "### Import Statements"
   ]
  },
  {
   "cell_type": "code",
   "execution_count": 1,
   "id": "e568c186",
   "metadata": {},
   "outputs": [],
   "source": [
    "import os \n",
    "import sys\n",
    "\n",
    "p = os.path.abspath(os.path.join(os.path.dirname(\"__file__\"), '..'))\n",
    "sys.path.append(p)\n",
    "\n",
    "from GameMain import ConnectFourGUI"
   ]
  },
  {
   "cell_type": "markdown",
   "id": "8ee632a5",
   "metadata": {},
   "source": [
    "### Save Path"
   ]
  },
  {
   "cell_type": "code",
   "execution_count": 2,
   "id": "1ced6400",
   "metadata": {},
   "outputs": [],
   "source": [
    "save_path = os.path.join(p, 'datasets', 'monte_carlo_AI_VS_AI.csv')"
   ]
  },
  {
   "cell_type": "markdown",
   "id": "da5f2ac1",
   "metadata": {},
   "source": [
    "### Create dataset .csv file\n",
    "\n",
    "This dataset has the structure described below:\n",
    "\n",
    "- `cel1` ... `cel42`: Contains the ID of the piece in that board element  \n",
    "- `pieces`: The number of pieces currently on the board  \n",
    "- `turn`: The next player to make a move  \n",
    "- `played`: The move played by MCTS  "
   ]
  },
  {
   "cell_type": "code",
   "execution_count": 3,
   "id": "011aca30",
   "metadata": {},
   "outputs": [
    {
     "name": "stdout",
     "output_type": "stream",
     "text": [
      "DANGER: you are about to overwrite the file with new data\n",
      "This process will take a long time to run and will overwrite the file, potentially losing the already generated data\n"
     ]
    }
   ],
   "source": [
    "def create_csv(save_path):\n",
    "    with open(save_path, 'w') as f:\n",
    "        linha = [f'cel{i}' for i in range(1, 43)] + ['pieces', 'turn', 'played']\n",
    "        linha = ';'.join(linha)\n",
    "        f.write( linha + '\\n')\n",
    "        f.close()\n",
    "        print(f'File {save_path} created!')\n",
    "\n",
    "print (\"DANGER: you are about to overwrite the file with new data\")\n",
    "print (\"This process will take a long time to run and will overwrite the file, potentially losing the already generated data\")\n",
    "\n",
    "string = input(\"Are you sure you want to continue? (yes/no): \")\n",
    "if string == 'yes':\n",
    "    create_csv(save_path)"
   ]
  },
  {
   "cell_type": "markdown",
   "id": "6dd2e066",
   "metadata": {},
   "source": [
    "### Explanation of the `generate_data` Function\n",
    "\n",
    "The `generate_data` function automates the process of generating Connect Four game data by simulating games where two Monte Carlo AIs play against each other. Here’s how it works:\n",
    "\n",
    "- The function takes an argument `iterations`, which specifies how many games to simulate.\n",
    "- For each iteration:\n",
    "  - It creates a new instance of the `ConnectFourGUI` class.\n",
    "  - It resets the game to its initial state.\n",
    "  - It runs an AI vs AI match using the `run_ava` method, saving the each move data to the specified CSV file (`save_path`).\n",
    "\n",
    "The call `generate_data(500)` will generate data from 500 AI vs AI games and append the results to the dataset."
   ]
  },
  {
   "cell_type": "code",
   "execution_count": 4,
   "id": "a9a9238e",
   "metadata": {},
   "outputs": [
    {
     "ename": "KeyboardInterrupt",
     "evalue": "",
     "output_type": "error",
     "traceback": [
      "\u001b[1;31m---------------------------------------------------------------------------\u001b[0m",
      "\u001b[1;31mKeyboardInterrupt\u001b[0m                         Traceback (most recent call last)",
      "Cell \u001b[1;32mIn[4], line 10\u001b[0m\n\u001b[0;32m      7\u001b[0m         gui\u001b[38;5;241m.\u001b[39mgame\u001b[38;5;241m.\u001b[39mreset_game()\n\u001b[0;32m      8\u001b[0m         gui\u001b[38;5;241m.\u001b[39mrun_ava(save_path\u001b[38;5;241m=\u001b[39msave_path)\n\u001b[1;32m---> 10\u001b[0m generate_data(\u001b[38;5;241m500\u001b[39m)\n",
      "Cell \u001b[1;32mIn[4], line 8\u001b[0m, in \u001b[0;36mgenerate_data\u001b[1;34m(iterations)\u001b[0m\n\u001b[0;32m      6\u001b[0m gui \u001b[38;5;241m=\u001b[39m ConnectFourGUI()  \n\u001b[0;32m      7\u001b[0m gui\u001b[38;5;241m.\u001b[39mgame\u001b[38;5;241m.\u001b[39mreset_game()\n\u001b[1;32m----> 8\u001b[0m gui\u001b[38;5;241m.\u001b[39mrun_ava(save_path\u001b[38;5;241m=\u001b[39msave_path)\n",
      "File \u001b[1;32mc:\\Users\\diogo\\OneDrive\\Documents\\GitHub\\MCTS_and_DecisionTree_for_ConnectFourGame\\GameMain.py:178\u001b[0m, in \u001b[0;36mConnectFourGUI.run_ava\u001b[1;34m(self, ai1_iter, ai2_iter, debug, save_path)\u001b[0m\n\u001b[0;32m    176\u001b[0m     monte_carlo \u001b[38;5;241m=\u001b[39m MonteCarlo(iteration\u001b[38;5;241m=\u001b[39mai2_iter, debug\u001b[38;5;241m=\u001b[39mdebug) \u001b[38;5;28;01mif\u001b[39;00m ai2_iter \u001b[38;5;241m>\u001b[39m\u001b[38;5;241m=\u001b[39m config\u001b[38;5;241m.\u001b[39mMEDIUMLEVEL \u001b[38;5;28;01melse\u001b[39;00m MonteCarlo_Single(iteration\u001b[38;5;241m=\u001b[39mai2_iter, debug\u001b[38;5;241m=\u001b[39mdebug)            \n\u001b[0;32m    177\u001b[0m start_time \u001b[38;5;241m=\u001b[39m timeit\u001b[38;5;241m.\u001b[39mdefault_timer()\n\u001b[1;32m--> 178\u001b[0m best_child, scores \u001b[38;5;241m=\u001b[39m monte_carlo\u001b[38;5;241m.\u001b[39msearch(root)\n\u001b[0;32m    179\u001b[0m end_time \u001b[38;5;241m=\u001b[39m timeit\u001b[38;5;241m.\u001b[39mdefault_timer()\n\u001b[0;32m    181\u001b[0m \u001b[38;5;28;01mif\u001b[39;00m save_path \u001b[38;5;129;01mis\u001b[39;00m \u001b[38;5;129;01mnot\u001b[39;00m \u001b[38;5;28;01mNone\u001b[39;00m:\n",
      "File \u001b[1;32mc:\\Users\\diogo\\OneDrive\\Documents\\GitHub\\MCTS_and_DecisionTree_for_ConnectFourGame\\MCTS\\MCTS_optimized.py:115\u001b[0m, in \u001b[0;36mMonteCarlo.search\u001b[1;34m(self, root)\u001b[0m\n\u001b[0;32m    111\u001b[0m \u001b[38;5;28;01mwith\u001b[39;00m ProcessPoolExecutor(max_workers\u001b[38;5;241m=\u001b[39m\u001b[38;5;28mself\u001b[39m\u001b[38;5;241m.\u001b[39mcpu_cores) \u001b[38;5;28;01mas\u001b[39;00m executor:\n\u001b[0;32m    112\u001b[0m     futures \u001b[38;5;241m=\u001b[39m [executor\u001b[38;5;241m.\u001b[39msubmit(worker_mcts, root\u001b[38;5;241m.\u001b[39mstate, iterations_per_worker, \u001b[38;5;28mself\u001b[39m\u001b[38;5;241m.\u001b[39mexploration)\n\u001b[0;32m    113\u001b[0m                \u001b[38;5;28;01mfor\u001b[39;00m _ \u001b[38;5;129;01min\u001b[39;00m \u001b[38;5;28mrange\u001b[39m(\u001b[38;5;28mself\u001b[39m\u001b[38;5;241m.\u001b[39mcpu_cores)]\n\u001b[1;32m--> 115\u001b[0m     all_stats \u001b[38;5;241m=\u001b[39m [f\u001b[38;5;241m.\u001b[39mresult() \u001b[38;5;28;01mfor\u001b[39;00m f \u001b[38;5;129;01min\u001b[39;00m futures]\n\u001b[0;32m    117\u001b[0m merged_stats: Dict[\u001b[38;5;28mint\u001b[39m, Tuple[\u001b[38;5;28mfloat\u001b[39m, \u001b[38;5;28mint\u001b[39m]] \u001b[38;5;241m=\u001b[39m {}\n\u001b[0;32m    119\u001b[0m \u001b[38;5;28;01mfor\u001b[39;00m stat \u001b[38;5;129;01min\u001b[39;00m all_stats:\n",
      "File \u001b[1;32mc:\\Users\\diogo\\OneDrive\\Documents\\GitHub\\MCTS_and_DecisionTree_for_ConnectFourGame\\MCTS\\MCTS_optimized.py:115\u001b[0m, in \u001b[0;36m<listcomp>\u001b[1;34m(.0)\u001b[0m\n\u001b[0;32m    111\u001b[0m \u001b[38;5;28;01mwith\u001b[39;00m ProcessPoolExecutor(max_workers\u001b[38;5;241m=\u001b[39m\u001b[38;5;28mself\u001b[39m\u001b[38;5;241m.\u001b[39mcpu_cores) \u001b[38;5;28;01mas\u001b[39;00m executor:\n\u001b[0;32m    112\u001b[0m     futures \u001b[38;5;241m=\u001b[39m [executor\u001b[38;5;241m.\u001b[39msubmit(worker_mcts, root\u001b[38;5;241m.\u001b[39mstate, iterations_per_worker, \u001b[38;5;28mself\u001b[39m\u001b[38;5;241m.\u001b[39mexploration)\n\u001b[0;32m    113\u001b[0m                \u001b[38;5;28;01mfor\u001b[39;00m _ \u001b[38;5;129;01min\u001b[39;00m \u001b[38;5;28mrange\u001b[39m(\u001b[38;5;28mself\u001b[39m\u001b[38;5;241m.\u001b[39mcpu_cores)]\n\u001b[1;32m--> 115\u001b[0m     all_stats \u001b[38;5;241m=\u001b[39m [f\u001b[38;5;241m.\u001b[39mresult() \u001b[38;5;28;01mfor\u001b[39;00m f \u001b[38;5;129;01min\u001b[39;00m futures]\n\u001b[0;32m    117\u001b[0m merged_stats: Dict[\u001b[38;5;28mint\u001b[39m, Tuple[\u001b[38;5;28mfloat\u001b[39m, \u001b[38;5;28mint\u001b[39m]] \u001b[38;5;241m=\u001b[39m {}\n\u001b[0;32m    119\u001b[0m \u001b[38;5;28;01mfor\u001b[39;00m stat \u001b[38;5;129;01min\u001b[39;00m all_stats:\n",
      "File \u001b[1;32mc:\\Users\\diogo\\anaconda3\\envs\\DataSciEnv\\Lib\\concurrent\\futures\\_base.py:451\u001b[0m, in \u001b[0;36mFuture.result\u001b[1;34m(self, timeout)\u001b[0m\n\u001b[0;32m    448\u001b[0m \u001b[38;5;28;01melif\u001b[39;00m \u001b[38;5;28mself\u001b[39m\u001b[38;5;241m.\u001b[39m_state \u001b[38;5;241m==\u001b[39m FINISHED:\n\u001b[0;32m    449\u001b[0m     \u001b[38;5;28;01mreturn\u001b[39;00m \u001b[38;5;28mself\u001b[39m\u001b[38;5;241m.\u001b[39m__get_result()\n\u001b[1;32m--> 451\u001b[0m \u001b[38;5;28mself\u001b[39m\u001b[38;5;241m.\u001b[39m_condition\u001b[38;5;241m.\u001b[39mwait(timeout)\n\u001b[0;32m    453\u001b[0m \u001b[38;5;28;01mif\u001b[39;00m \u001b[38;5;28mself\u001b[39m\u001b[38;5;241m.\u001b[39m_state \u001b[38;5;129;01min\u001b[39;00m [CANCELLED, CANCELLED_AND_NOTIFIED]:\n\u001b[0;32m    454\u001b[0m     \u001b[38;5;28;01mraise\u001b[39;00m CancelledError()\n",
      "File \u001b[1;32mc:\\Users\\diogo\\anaconda3\\envs\\DataSciEnv\\Lib\\threading.py:327\u001b[0m, in \u001b[0;36mCondition.wait\u001b[1;34m(self, timeout)\u001b[0m\n\u001b[0;32m    325\u001b[0m \u001b[38;5;28;01mtry\u001b[39;00m:    \u001b[38;5;66;03m# restore state no matter what (e.g., KeyboardInterrupt)\u001b[39;00m\n\u001b[0;32m    326\u001b[0m     \u001b[38;5;28;01mif\u001b[39;00m timeout \u001b[38;5;129;01mis\u001b[39;00m \u001b[38;5;28;01mNone\u001b[39;00m:\n\u001b[1;32m--> 327\u001b[0m         waiter\u001b[38;5;241m.\u001b[39macquire()\n\u001b[0;32m    328\u001b[0m         gotit \u001b[38;5;241m=\u001b[39m \u001b[38;5;28;01mTrue\u001b[39;00m\n\u001b[0;32m    329\u001b[0m     \u001b[38;5;28;01melse\u001b[39;00m:\n",
      "\u001b[1;31mKeyboardInterrupt\u001b[0m: "
     ]
    }
   ],
   "source": [
    "def generate_data(iterations):\n",
    "    \"\"\"\n",
    "    Generate data for the Connect Four game using Monte Carlo AI vs AI.\n",
    "    \"\"\"\n",
    "    for i in range(iterations):\n",
    "        gui = ConnectFourGUI()  \n",
    "        gui.game.reset_game()\n",
    "        gui.run_ava(save_path=save_path)\n",
    "\n",
    "generate_data(500)"
   ]
  }
 ],
 "metadata": {
  "kernelspec": {
   "display_name": "DataSciEnv",
   "language": "python",
   "name": "python3"
  },
  "language_info": {
   "codemirror_mode": {
    "name": "ipython",
    "version": 3
   },
   "file_extension": ".py",
   "mimetype": "text/x-python",
   "name": "python",
   "nbconvert_exporter": "python",
   "pygments_lexer": "ipython3",
   "version": "3.11.7"
  }
 },
 "nbformat": 4,
 "nbformat_minor": 5
}
