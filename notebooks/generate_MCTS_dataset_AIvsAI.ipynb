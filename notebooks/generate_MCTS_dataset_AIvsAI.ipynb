{
 "cells": [
  {
   "cell_type": "markdown",
   "id": "4e7d4524",
   "metadata": {},
   "source": [
    "# Generate MCTS from AIvsAI positions to train a Decision Tree\n",
    "\n",
    "This notebook is responsible for creating a dataset with a current state description and the MCTS decision to train the Decision Tree further on the project"
   ]
  },
  {
   "cell_type": "markdown",
   "id": "0bf1b611",
   "metadata": {},
   "source": [
    "### Import Statements"
   ]
  },
  {
   "cell_type": "code",
   "execution_count": 2,
   "id": "e568c186",
   "metadata": {},
   "outputs": [],
   "source": [
    "import os \n",
    "import sys\n",
    "\n",
    "p = os.path.abspath(os.path.join(os.path.dirname(\"__file__\"), '..'))\n",
    "sys.path.append(p)\n",
    "\n",
    "from GameMain import ConnectFourGUI"
   ]
  },
  {
   "cell_type": "markdown",
   "id": "8ee632a5",
   "metadata": {},
   "source": [
    "### Save Path"
   ]
  },
  {
   "cell_type": "code",
   "execution_count": 3,
   "id": "1ced6400",
   "metadata": {},
   "outputs": [],
   "source": [
    "save_path = os.path.join(p, 'datasets', 'monte_carlo_AI_VS_AI.csv')"
   ]
  },
  {
   "cell_type": "markdown",
   "id": "da5f2ac1",
   "metadata": {},
   "source": [
    "### Create dataset .csv file\n",
    "\n",
    "This dataset has the structure described below:\n",
    "\n",
    "- `cel1` ... `cel42`: Contains the ID of the piece in that board element  \n",
    "- `pieces`: The number of pieces currently on the board  \n",
    "- `turn`: The next player to make a move  \n",
    "- `played`: The move played by MCTS  "
   ]
  },
  {
   "cell_type": "code",
   "execution_count": 4,
   "id": "011aca30",
   "metadata": {},
   "outputs": [
    {
     "name": "stdout",
     "output_type": "stream",
     "text": [
      "DANGER: you are about to overwrite the file with new data\n",
      "This process will take a long time to run and will overwrite the file, potentially losing the already generated data\n"
     ]
    }
   ],
   "source": [
    "def create_csv(save_path):\n",
    "    with open(save_path, 'w') as f:\n",
    "        linha = [f'cel{i}' for i in range(1, 43)] + ['pieces', 'turn', 'played']\n",
    "        linha = ';'.join(linha)\n",
    "        f.write( linha + '\\n')\n",
    "        f.close()\n",
    "        print(f'File {save_path} created!')\n",
    "\n",
    "print (\"DANGER: you are about to overwrite the file with new data\")\n",
    "print (\"This process will take a long time to run and will overwrite the file, potentially losing the already generated data\")\n",
    "\n",
    "string = input(\"Are you sure you want to continue? (yes/no): \")\n",
    "if string == 'yes':\n",
    "    create_csv(save_path)"
   ]
  },
  {
   "cell_type": "markdown",
   "id": "6dd2e066",
   "metadata": {},
   "source": [
    "### Explanation of the `generate_data` Function\n",
    "\n",
    "The `generate_data` function automates the process of generating Connect Four game data by simulating games where two Monte Carlo AIs play against each other. Here’s how it works:\n",
    "\n",
    "- The function takes an argument `iterations`, which specifies how many games to simulate.\n",
    "- For each iteration:\n",
    "  - It creates a new instance of the `ConnectFourGUI` class.\n",
    "  - It resets the game to its initial state.\n",
    "  - It runs an AI vs AI match using the `run_ava` method, saving the each move data to the specified CSV file (`save_path`).\n",
    "\n",
    "The call `generate_data(500)` will generate data from 500 AI vs AI games and append the results to the dataset."
   ]
  },
  {
   "cell_type": "code",
   "execution_count": null,
   "id": "a9a9238e",
   "metadata": {},
   "outputs": [
    {
     "name": "stdout",
     "output_type": "stream",
     "text": [
      "Data saved in:  c:\\Users\\diogo\\OneDrive\\Documents\\GitHub\\MCTS_and_DecisionTree_for_ConnectFourGame\\datasets\\monte_carlo_AI_VS_AI.csv\n"
     ]
    },
    {
     "ename": "",
     "evalue": "",
     "output_type": "error",
     "traceback": [
      "\u001b[1;31mThe Kernel crashed while executing code in the current cell or a previous cell. \n",
      "\u001b[1;31mPlease review the code in the cell(s) to identify a possible cause of the failure. \n",
      "\u001b[1;31mClick <a href='https://aka.ms/vscodeJupyterKernelCrash'>here</a> for more info. \n",
      "\u001b[1;31mView Jupyter <a href='command:jupyter.viewOutput'>log</a> for further details."
     ]
    }
   ],
   "source": [
    "def generate_data(iterations):\n",
    "    \"\"\"\n",
    "    Generate data for the Connect Four game using Monte Carlo AI vs AI.\n",
    "    \"\"\"\n",
    "    for _ in range(iterations):\n",
    "        gui = ConnectFourGUI()  \n",
    "        gui.game.reset_game()\n",
    "        gui.run_ava(save_path=save_path)\n",
    "\n",
    "\n",
    "\n",
    "generate_data(500)\n",
    "print(\"Data saved in: \", save_path)"
   ]
  }
 ],
 "metadata": {
  "kernelspec": {
   "display_name": "DataSciEnv",
   "language": "python",
   "name": "python3"
  },
  "language_info": {
   "codemirror_mode": {
    "name": "ipython",
    "version": 3
   },
   "file_extension": ".py",
   "mimetype": "text/x-python",
   "name": "python",
   "nbconvert_exporter": "python",
   "pygments_lexer": "ipython3",
   "version": "3.11.7"
  }
 },
 "nbformat": 4,
 "nbformat_minor": 5
}
