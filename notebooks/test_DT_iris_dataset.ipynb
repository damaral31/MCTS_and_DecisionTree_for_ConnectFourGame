{
 "cells": [
  {
   "cell_type": "code",
   "execution_count": 68,
   "id": "88b5e68c",
   "metadata": {},
   "outputs": [],
   "source": [
    "from sklearn.model_selection import train_test_split\n",
    "import os\n",
    "import sys\n",
    "import pandas as pd\n",
    "\n",
    "p = os.path.abspath(os.path.join(os.getcwd(), '..'))\n",
    "sys.path.append(p)  \n",
    "\n",
    "from DecisionTree.ID3Tree import ID3Tree\n",
    "from DecisionTree.Ruleset import Ruleset\n",
    "from DecisionTree.Bootstrap_Aggregating import Bagging"
   ]
  },
  {
   "cell_type": "code",
   "execution_count": null,
   "id": "42184607",
   "metadata": {},
   "outputs": [
    {
     "data": {
      "text/html": [
       "<div>\n",
       "<style scoped>\n",
       "    .dataframe tbody tr th:only-of-type {\n",
       "        vertical-align: middle;\n",
       "    }\n",
       "\n",
       "    .dataframe tbody tr th {\n",
       "        vertical-align: top;\n",
       "    }\n",
       "\n",
       "    .dataframe thead th {\n",
       "        text-align: right;\n",
       "    }\n",
       "</style>\n",
       "<table border=\"1\" class=\"dataframe\">\n",
       "  <thead>\n",
       "    <tr style=\"text-align: right;\">\n",
       "      <th></th>\n",
       "      <th>sepallength</th>\n",
       "      <th>sepalwidth</th>\n",
       "      <th>petallength</th>\n",
       "      <th>petalwidth</th>\n",
       "      <th>class</th>\n",
       "    </tr>\n",
       "  </thead>\n",
       "  <tbody>\n",
       "    <tr>\n",
       "      <th>0</th>\n",
       "      <td>5.1</td>\n",
       "      <td>3.5</td>\n",
       "      <td>1.4</td>\n",
       "      <td>0.2</td>\n",
       "      <td>Iris-setosa</td>\n",
       "    </tr>\n",
       "    <tr>\n",
       "      <th>1</th>\n",
       "      <td>4.9</td>\n",
       "      <td>3.0</td>\n",
       "      <td>1.4</td>\n",
       "      <td>0.2</td>\n",
       "      <td>Iris-setosa</td>\n",
       "    </tr>\n",
       "    <tr>\n",
       "      <th>2</th>\n",
       "      <td>4.7</td>\n",
       "      <td>3.2</td>\n",
       "      <td>1.3</td>\n",
       "      <td>0.2</td>\n",
       "      <td>Iris-setosa</td>\n",
       "    </tr>\n",
       "    <tr>\n",
       "      <th>3</th>\n",
       "      <td>4.6</td>\n",
       "      <td>3.1</td>\n",
       "      <td>1.5</td>\n",
       "      <td>0.2</td>\n",
       "      <td>Iris-setosa</td>\n",
       "    </tr>\n",
       "    <tr>\n",
       "      <th>4</th>\n",
       "      <td>5.0</td>\n",
       "      <td>3.6</td>\n",
       "      <td>1.4</td>\n",
       "      <td>0.2</td>\n",
       "      <td>Iris-setosa</td>\n",
       "    </tr>\n",
       "    <tr>\n",
       "      <th>...</th>\n",
       "      <td>...</td>\n",
       "      <td>...</td>\n",
       "      <td>...</td>\n",
       "      <td>...</td>\n",
       "      <td>...</td>\n",
       "    </tr>\n",
       "    <tr>\n",
       "      <th>145</th>\n",
       "      <td>6.7</td>\n",
       "      <td>3.0</td>\n",
       "      <td>5.2</td>\n",
       "      <td>2.3</td>\n",
       "      <td>Iris-virginica</td>\n",
       "    </tr>\n",
       "    <tr>\n",
       "      <th>146</th>\n",
       "      <td>6.3</td>\n",
       "      <td>2.5</td>\n",
       "      <td>5.0</td>\n",
       "      <td>1.9</td>\n",
       "      <td>Iris-virginica</td>\n",
       "    </tr>\n",
       "    <tr>\n",
       "      <th>147</th>\n",
       "      <td>6.5</td>\n",
       "      <td>3.0</td>\n",
       "      <td>5.2</td>\n",
       "      <td>2.0</td>\n",
       "      <td>Iris-virginica</td>\n",
       "    </tr>\n",
       "    <tr>\n",
       "      <th>148</th>\n",
       "      <td>6.2</td>\n",
       "      <td>3.4</td>\n",
       "      <td>5.4</td>\n",
       "      <td>2.3</td>\n",
       "      <td>Iris-virginica</td>\n",
       "    </tr>\n",
       "    <tr>\n",
       "      <th>149</th>\n",
       "      <td>5.9</td>\n",
       "      <td>3.0</td>\n",
       "      <td>5.1</td>\n",
       "      <td>1.8</td>\n",
       "      <td>Iris-virginica</td>\n",
       "    </tr>\n",
       "  </tbody>\n",
       "</table>\n",
       "<p>150 rows × 5 columns</p>\n",
       "</div>"
      ],
      "text/plain": [
       "     sepallength  sepalwidth  petallength  petalwidth           class\n",
       "0            5.1         3.5          1.4         0.2     Iris-setosa\n",
       "1            4.9         3.0          1.4         0.2     Iris-setosa\n",
       "2            4.7         3.2          1.3         0.2     Iris-setosa\n",
       "3            4.6         3.1          1.5         0.2     Iris-setosa\n",
       "4            5.0         3.6          1.4         0.2     Iris-setosa\n",
       "..           ...         ...          ...         ...             ...\n",
       "145          6.7         3.0          5.2         2.3  Iris-virginica\n",
       "146          6.3         2.5          5.0         1.9  Iris-virginica\n",
       "147          6.5         3.0          5.2         2.0  Iris-virginica\n",
       "148          6.2         3.4          5.4         2.3  Iris-virginica\n",
       "149          5.9         3.0          5.1         1.8  Iris-virginica\n",
       "\n",
       "[150 rows x 5 columns]"
      ]
     },
     "execution_count": 69,
     "metadata": {},
     "output_type": "execute_result"
    }
   ],
   "source": [
    "iris_path = os.path.join(p, 'datasets', 'iris.csv')\n",
    "iris = pd.read_csv(iris_path)\n",
    "iris.drop(columns=['ID'], inplace=True)\n",
    "iris"
   ]
  },
  {
   "cell_type": "code",
   "execution_count": 70,
   "id": "3258a9b8",
   "metadata": {},
   "outputs": [
    {
     "name": "stdout",
     "output_type": "stream",
     "text": [
      "Feature names:  ['sepallength', 'sepalwidth', 'petallength', 'petalwidth']\n"
     ]
    }
   ],
   "source": [
    "\n",
    "X, y = iris[iris.columns[:-1]], iris[iris.columns[-1]]\n",
    "X = X.to_numpy().tolist()\n",
    "y = y.to_numpy().tolist()\n",
    "feature_names = iris.columns[:-1].tolist()\n",
    "print(\"Feature names: \", feature_names)"
   ]
  },
  {
   "cell_type": "code",
   "execution_count": 71,
   "id": "949b80a8",
   "metadata": {},
   "outputs": [],
   "source": [
    "# Combine features and labels\n",
    "data = [x + [label] for x, label in zip(X, y)]\n",
    "\n",
    "# Split data\n",
    "train_data, test_data = train_test_split(data, test_size=0.3, random_state=42)\n",
    "\n",
    "# Define attribute types (all continuous in iris)\n",
    "type_map = {attr: 'continuous' for attr in feature_names}"
   ]
  },
  {
   "cell_type": "code",
   "execution_count": 72,
   "id": "058d8ae3",
   "metadata": {},
   "outputs": [
    {
     "name": "stdout",
     "output_type": "stream",
     "text": [
      "\n",
      "Testing ID3Tree:\n",
      "Accuracy: 0.91\n"
     ]
    }
   ],
   "source": [
    "print(\"\\nTesting ID3Tree:\")\n",
    "tree = ID3Tree(feature_names, train_data, default=0, type_map=type_map)  # Default to class 0\n",
    "tree.train()\n",
    "\n",
    "# Build rules once after training\n",
    "rules = tree.build_rules()\n",
    "\n",
    "correct = 0\n",
    "for row in test_data:\n",
    "    # Iterate through all rules to find a matching prediction\n",
    "    pred_label = None\n",
    "    for rule in rules:\n",
    "        pred_label = rule.predict(row)\n",
    "        if pred_label is not None:\n",
    "            break  # Stop at the first matching rule\n",
    "\n",
    "    # Use the default class if no rule matches\n",
    "    if pred_label is None:\n",
    "        pred_label = 0  # Default to class 0\n",
    "\n",
    "    if pred_label == row[-1]:\n",
    "        correct += 1\n",
    "\n",
    "print(f\"Accuracy: {correct / len(test_data):.2f}\")"
   ]
  },
  {
   "cell_type": "code",
   "execution_count": 73,
   "id": "526ac532",
   "metadata": {},
   "outputs": [
    {
     "name": "stdout",
     "output_type": "stream",
     "text": [
      "\n",
      "Testing Ruleset:\n",
      "Accuracy: 1.00\n"
     ]
    }
   ],
   "source": [
    "# Train and test Ruleset\n",
    "print(\"\\nTesting Ruleset:\")\n",
    "ruleset = Ruleset(feature_names, train_data, 0, type_map)  # Default to class 0\n",
    "ruleset.train()\n",
    "correct = 0\n",
    "for row in test_data:\n",
    "    pred, _ = ruleset.predict(row)\n",
    "    if pred == row[-1]:\n",
    "        correct += 1\n",
    "print(f\"Accuracy: {correct / len(test_data):.2f}\")\n"
   ]
  },
  {
   "cell_type": "code",
   "execution_count": 74,
   "id": "5c0d0076",
   "metadata": {},
   "outputs": [
    {
     "name": "stdout",
     "output_type": "stream",
     "text": [
      "\n",
      "Testing Bagging:\n",
      "Training classifier #1\n",
      "Training classifier #2\n",
      "Training classifier #3\n",
      "Training classifier #4\n",
      "Training classifier #5\n",
      "Training classifier #6\n",
      "Training classifier #7\n",
      "Training classifier #8\n",
      "Training classifier #9\n",
      "Training classifier #10\n",
      "Accuracy: 1.00\n"
     ]
    }
   ],
   "source": [
    "print(\"\\nTesting Bagging:\")\n",
    "bagging = Bagging(feature_names, train_data, 0, type_map)  # Default to class 0\n",
    "bagging.train()\n",
    "correct = 0\n",
    "for row in test_data:\n",
    "    pred, _ = bagging.predict(row)\n",
    "    if pred == row[-1]:\n",
    "        correct += 1\n",
    "print(f\"Accuracy: {correct / len(test_data):.2f}\")"
   ]
  }
 ],
 "metadata": {
  "kernelspec": {
   "display_name": "DataSciEnv",
   "language": "python",
   "name": "python3"
  },
  "language_info": {
   "codemirror_mode": {
    "name": "ipython",
    "version": 3
   },
   "file_extension": ".py",
   "mimetype": "text/x-python",
   "name": "python",
   "nbconvert_exporter": "python",
   "pygments_lexer": "ipython3",
   "version": "3.11.7"
  }
 },
 "nbformat": 4,
 "nbformat_minor": 5
}
