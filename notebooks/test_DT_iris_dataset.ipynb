{
 "cells": [
  {
   "cell_type": "code",
   "execution_count": null,
   "id": "88b5e68c",
   "metadata": {},
   "outputs": [],
   "source": [
    "from sklearn.datasets import load_iris\n",
    "from sklearn.model_selection import train_test_split\n",
    "import os\n",
    "import sys\n",
    "\n",
    "p = os.path.abspath(os.path.join(os.getcwd(), '..'))\n",
    "sys.path.append(p)  # Add the folder_path to the Python path\n",
    "\n",
    "from DecisionTree.ID3Tree import ID3Tree\n",
    "from DecisionTree.Ruleset import Ruleset\n",
    "from DecisionTree.Bootstrap_Aggregating import Bagging"
   ]
  },
  {
   "cell_type": "code",
   "execution_count": 16,
   "id": "3258a9b8",
   "metadata": {},
   "outputs": [],
   "source": [
    "iris = load_iris()\n",
    "X, y = iris.data.tolist(), iris.target.tolist()\n",
    "feature_names = iris.feature_names"
   ]
  },
  {
   "cell_type": "code",
   "execution_count": 17,
   "id": "949b80a8",
   "metadata": {},
   "outputs": [],
   "source": [
    "# Combine features and labels\n",
    "data = [x + [label] for x, label in zip(X, y)]\n",
    "\n",
    "# Split data\n",
    "train_data, test_data = train_test_split(data, test_size=0.3, random_state=42)\n",
    "\n",
    "# Define attribute types (all continuous in iris)\n",
    "type_map = {attr: 'continuous' for attr in feature_names}"
   ]
  },
  {
   "cell_type": "code",
   "execution_count": 18,
   "id": "058d8ae3",
   "metadata": {},
   "outputs": [
    {
     "name": "stdout",
     "output_type": "stream",
     "text": [
      "\n",
      "Testing ID3Tree:\n",
      "Accuracy: 0.91\n"
     ]
    }
   ],
   "source": [
    "print(\"\\nTesting ID3Tree:\")\n",
    "tree = ID3Tree(feature_names, train_data, default=0, type_map=type_map)  # Default to class 0\n",
    "tree.train()\n",
    "\n",
    "# Build rules once after training\n",
    "rules = tree.build_rules()\n",
    "\n",
    "correct = 0\n",
    "for row in test_data:\n",
    "    # Iterate through all rules to find a matching prediction\n",
    "    pred_label = None\n",
    "    for rule in rules:\n",
    "        pred_label = rule.predict(row)\n",
    "        if pred_label is not None:\n",
    "            break  # Stop at the first matching rule\n",
    "\n",
    "    # Use the default class if no rule matches\n",
    "    if pred_label is None:\n",
    "        pred_label = 0  # Default to class 0\n",
    "\n",
    "    if pred_label == row[-1]:\n",
    "        correct += 1\n",
    "\n",
    "print(f\"Accuracy: {correct / len(test_data):.2f}\")"
   ]
  },
  {
   "cell_type": "code",
   "execution_count": 19,
   "id": "526ac532",
   "metadata": {},
   "outputs": [
    {
     "name": "stdout",
     "output_type": "stream",
     "text": [
      "\n",
      "Testing Ruleset:\n",
      "Accuracy: 0.98\n"
     ]
    }
   ],
   "source": [
    "# Train and test Ruleset\n",
    "print(\"\\nTesting Ruleset:\")\n",
    "ruleset = Ruleset(feature_names, train_data, 0, type_map)  # Default to class 0\n",
    "ruleset.train()\n",
    "correct = 0\n",
    "for row in test_data:\n",
    "    pred, _ = ruleset.predict(row)\n",
    "    if pred == row[-1]:\n",
    "        correct += 1\n",
    "print(f\"Accuracy: {correct / len(test_data):.2f}\")\n"
   ]
  },
  {
   "cell_type": "code",
   "execution_count": 20,
   "id": "5c0d0076",
   "metadata": {},
   "outputs": [
    {
     "name": "stdout",
     "output_type": "stream",
     "text": [
      "\n",
      "Testing Bagging:\n",
      "Training classifier #1\n",
      "Training classifier #2\n",
      "Training classifier #3\n",
      "Training classifier #4\n",
      "Training classifier #5\n",
      "Training classifier #6\n",
      "Training classifier #7\n",
      "Training classifier #8\n",
      "Training classifier #9\n",
      "Training classifier #10\n",
      "Accuracy: 1.00\n"
     ]
    }
   ],
   "source": [
    "print(\"\\nTesting Bagging:\")\n",
    "bagging = Bagging(feature_names, train_data, 0, type_map)  # Default to class 0\n",
    "bagging.train()\n",
    "correct = 0\n",
    "for row in test_data:\n",
    "    pred, _ = bagging.predict(row)\n",
    "    if pred == row[-1]:\n",
    "        correct += 1\n",
    "print(f\"Accuracy: {correct / len(test_data):.2f}\")"
   ]
  }
 ],
 "metadata": {
  "kernelspec": {
   "display_name": "DataSciEnv",
   "language": "python",
   "name": "python3"
  },
  "language_info": {
   "codemirror_mode": {
    "name": "ipython",
    "version": 3
   },
   "file_extension": ".py",
   "mimetype": "text/x-python",
   "name": "python",
   "nbconvert_exporter": "python",
   "pygments_lexer": "ipython3",
   "version": "3.11.7"
  }
 },
 "nbformat": 4,
 "nbformat_minor": 5
}
